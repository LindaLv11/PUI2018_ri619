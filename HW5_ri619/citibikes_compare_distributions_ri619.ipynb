{
 "cells": [
  {
   "cell_type": "code",
   "execution_count": 1,
   "metadata": {},
   "outputs": [
    {
     "name": "stdout",
     "output_type": "stream",
     "text": [
      "Populating the interactive namespace from numpy and matplotlib\n"
     ]
    }
   ],
   "source": [
    "import pylab as pl\n",
    "import pandas as pd\n",
    "import numpy as np\n",
    "import os\n",
    "import json\n",
    "import scipy.stats\n",
    "\n",
    "%pylab inline\n"
   ]
  },
  {
   "cell_type": "markdown",
   "metadata": {},
   "source": [
    "# Null Hypothesis\n",
    "\n",
    "\n",
    "\n",
    "H_0: The trip duration for Citibike rides is equal for all riders during the day and at night.\n",
    "\n",
    "_$H_0$ :  $Duration{\\mathrm{daytime}} - Duration{\\mathrm{nighttime}} = 0 $ \n",
    "\n",
    "H_1: The trip duration for Citibike rides during the day is not equal to the trip duration at night.\n",
    "\n",
    "_$H_1$ :  $Duration{\\mathrm{daytime}} - Duration{\\mathrm{nighttime}} \\neq 0 $ \n",
    "\n",
    "$ \\sigma = 0.05 $\n"
   ]
  },
  {
   "cell_type": "markdown",
   "metadata": {},
   "source": [
    "# Read in Data\n"
   ]
  },
  {
   "cell_type": "code",
   "execution_count": 2,
   "metadata": {},
   "outputs": [],
   "source": [
    "# Download data and move to PUIDATA...\n",
    "#  The following function will create the necessary commands\n",
    "#   to download the data from CitiBike's website and load them\n",
    "#   into multiple csv's.\n",
    "\n",
    "def CitiBikedata(date):\n",
    "    #create url to download data\n",
    "    url = \"https://s3.amazonaws.com/tripdata/\" + date + \"-citibike-tripdata.csv.zip\"\n",
    "    os.system(\"curl -O \" + url)\n",
    "    os.system(\"unzip \" + date + \"-citibike-tripdata.csv.zip\")\n",
    "    os.system(\"mv \" + date + \"-citibike-tripdata.csv $PUIDATA\")\n",
    "    os.system(\"rm \" + date + \"-citibike-tripdata.csv.zip\")\n"
   ]
  },
  {
   "cell_type": "code",
   "execution_count": 3,
   "metadata": {},
   "outputs": [
    {
     "name": "stdout",
     "output_type": "stream",
     "text": [
      "Loading data from 201704\n",
      "Loading data from 201705\n",
      "Loading data from 201706\n",
      "Loading data from 201707\n",
      "Loading data from 201708\n"
     ]
    }
   ],
   "source": [
    "#Download a 5 month range of data from April 2017 to August 2017. This for loop will load each csv into a dataframe\n",
    "#  and add it to a list called frames. In the next cell, all these dataframes are concatenated into one dataframe to \n",
    "#  be used for the analysis. \n",
    "\n",
    "date_call_int = 201703\n",
    "frames = []\n",
    "for i in range(5):\n",
    "    date_call_int = date_call_int + 1\n",
    "    date_call = str(date_call_int)\n",
    "    print(\"Loading data from \" + date_call)\n",
    "    CitiBikedata(date_call)\n",
    "    df = pd.read_csv(os.getenv(\"PUIDATA\") + \"/\" + date_call + '-citibike-tripdata.csv')\n",
    "    frames.append(df)\n"
   ]
  },
  {
   "cell_type": "code",
   "execution_count": 4,
   "metadata": {},
   "outputs": [
    {
     "data": {
      "text/html": [
       "<div>\n",
       "<table border=\"1\" class=\"dataframe\">\n",
       "  <thead>\n",
       "    <tr style=\"text-align: right;\">\n",
       "      <th></th>\n",
       "      <th>tripduration</th>\n",
       "      <th>starttime</th>\n",
       "      <th>stoptime</th>\n",
       "      <th>start station id</th>\n",
       "      <th>start station name</th>\n",
       "      <th>start station latitude</th>\n",
       "      <th>start station longitude</th>\n",
       "      <th>end station id</th>\n",
       "      <th>end station name</th>\n",
       "      <th>end station latitude</th>\n",
       "      <th>end station longitude</th>\n",
       "      <th>bikeid</th>\n",
       "      <th>usertype</th>\n",
       "      <th>birth year</th>\n",
       "      <th>gender</th>\n",
       "    </tr>\n",
       "  </thead>\n",
       "  <tbody>\n",
       "    <tr>\n",
       "      <th>0</th>\n",
       "      <td>195</td>\n",
       "      <td>2017-04-01 00:00:58</td>\n",
       "      <td>2017-04-01 00:04:14</td>\n",
       "      <td>217</td>\n",
       "      <td>Old Fulton St</td>\n",
       "      <td>40.702772</td>\n",
       "      <td>-73.993836</td>\n",
       "      <td>430</td>\n",
       "      <td>York St &amp; Jay St</td>\n",
       "      <td>40.701485</td>\n",
       "      <td>-73.986569</td>\n",
       "      <td>25454</td>\n",
       "      <td>Subscriber</td>\n",
       "      <td>1966.0</td>\n",
       "      <td>1</td>\n",
       "    </tr>\n",
       "    <tr>\n",
       "      <th>1</th>\n",
       "      <td>585</td>\n",
       "      <td>2017-04-01 00:01:54</td>\n",
       "      <td>2017-04-01 00:11:40</td>\n",
       "      <td>490</td>\n",
       "      <td>8 Ave &amp; W 33 St</td>\n",
       "      <td>40.751551</td>\n",
       "      <td>-73.993934</td>\n",
       "      <td>3158</td>\n",
       "      <td>W 63 St &amp; Broadway</td>\n",
       "      <td>40.771639</td>\n",
       "      <td>-73.982614</td>\n",
       "      <td>25930</td>\n",
       "      <td>Subscriber</td>\n",
       "      <td>1995.0</td>\n",
       "      <td>1</td>\n",
       "    </tr>\n",
       "    <tr>\n",
       "      <th>2</th>\n",
       "      <td>665</td>\n",
       "      <td>2017-04-01 00:01:56</td>\n",
       "      <td>2017-04-01 00:13:01</td>\n",
       "      <td>504</td>\n",
       "      <td>1 Ave &amp; E 16 St</td>\n",
       "      <td>40.732219</td>\n",
       "      <td>-73.981656</td>\n",
       "      <td>412</td>\n",
       "      <td>Forsyth St &amp; Canal St</td>\n",
       "      <td>40.715816</td>\n",
       "      <td>-73.994224</td>\n",
       "      <td>27110</td>\n",
       "      <td>Subscriber</td>\n",
       "      <td>1987.0</td>\n",
       "      <td>1</td>\n",
       "    </tr>\n",
       "    <tr>\n",
       "      <th>3</th>\n",
       "      <td>262</td>\n",
       "      <td>2017-04-01 00:02:24</td>\n",
       "      <td>2017-04-01 00:06:47</td>\n",
       "      <td>445</td>\n",
       "      <td>E 10 St &amp; Avenue A</td>\n",
       "      <td>40.727408</td>\n",
       "      <td>-73.981420</td>\n",
       "      <td>411</td>\n",
       "      <td>E 6 St &amp; Avenue D</td>\n",
       "      <td>40.722281</td>\n",
       "      <td>-73.976687</td>\n",
       "      <td>28392</td>\n",
       "      <td>Subscriber</td>\n",
       "      <td>1961.0</td>\n",
       "      <td>1</td>\n",
       "    </tr>\n",
       "    <tr>\n",
       "      <th>4</th>\n",
       "      <td>134</td>\n",
       "      <td>2017-04-01 00:02:36</td>\n",
       "      <td>2017-04-01 00:04:50</td>\n",
       "      <td>3423</td>\n",
       "      <td>West Drive &amp; Prospect Park West</td>\n",
       "      <td>40.661063</td>\n",
       "      <td>-73.979453</td>\n",
       "      <td>3300</td>\n",
       "      <td>Prospect Park West &amp; 8 St</td>\n",
       "      <td>40.665147</td>\n",
       "      <td>-73.976376</td>\n",
       "      <td>19316</td>\n",
       "      <td>Subscriber</td>\n",
       "      <td>1967.0</td>\n",
       "      <td>2</td>\n",
       "    </tr>\n",
       "  </tbody>\n",
       "</table>\n",
       "</div>"
      ],
      "text/plain": [
       "   tripduration            starttime             stoptime  start station id  \\\n",
       "0           195  2017-04-01 00:00:58  2017-04-01 00:04:14               217   \n",
       "1           585  2017-04-01 00:01:54  2017-04-01 00:11:40               490   \n",
       "2           665  2017-04-01 00:01:56  2017-04-01 00:13:01               504   \n",
       "3           262  2017-04-01 00:02:24  2017-04-01 00:06:47               445   \n",
       "4           134  2017-04-01 00:02:36  2017-04-01 00:04:50              3423   \n",
       "\n",
       "                start station name  start station latitude  \\\n",
       "0                    Old Fulton St               40.702772   \n",
       "1                  8 Ave & W 33 St               40.751551   \n",
       "2                  1 Ave & E 16 St               40.732219   \n",
       "3               E 10 St & Avenue A               40.727408   \n",
       "4  West Drive & Prospect Park West               40.661063   \n",
       "\n",
       "   start station longitude  end station id           end station name  \\\n",
       "0               -73.993836             430           York St & Jay St   \n",
       "1               -73.993934            3158         W 63 St & Broadway   \n",
       "2               -73.981656             412      Forsyth St & Canal St   \n",
       "3               -73.981420             411          E 6 St & Avenue D   \n",
       "4               -73.979453            3300  Prospect Park West & 8 St   \n",
       "\n",
       "   end station latitude  end station longitude  bikeid    usertype  \\\n",
       "0             40.701485             -73.986569   25454  Subscriber   \n",
       "1             40.771639             -73.982614   25930  Subscriber   \n",
       "2             40.715816             -73.994224   27110  Subscriber   \n",
       "3             40.722281             -73.976687   28392  Subscriber   \n",
       "4             40.665147             -73.976376   19316  Subscriber   \n",
       "\n",
       "   birth year  gender  \n",
       "0      1966.0       1  \n",
       "1      1995.0       1  \n",
       "2      1987.0       1  \n",
       "3      1961.0       1  \n",
       "4      1967.0       2  "
      ]
     },
     "execution_count": 4,
     "metadata": {},
     "output_type": "execute_result"
    }
   ],
   "source": [
    "cb_data = pd.concat(frames)\n",
    "cb_data.head()"
   ]
  },
  {
   "cell_type": "code",
   "execution_count": 5,
   "metadata": {},
   "outputs": [
    {
     "data": {
      "text/plain": [
       "Index(['tripduration', 'starttime', 'stoptime', 'start station id',\n",
       "       'start station name', 'start station latitude',\n",
       "       'start station longitude', 'end station id', 'end station name',\n",
       "       'end station latitude', 'end station longitude', 'bikeid', 'usertype',\n",
       "       'birth year', 'gender'],\n",
       "      dtype='object')"
      ]
     },
     "execution_count": 5,
     "metadata": {},
     "output_type": "execute_result"
    }
   ],
   "source": [
    "cb_data.columns"
   ]
  },
  {
   "cell_type": "markdown",
   "metadata": {},
   "source": [
    "# Data Wrangling (For Day/Night Analysis)\n",
    "\n",
    "The next few cells will be working to ensure the data is in proper formats to be analyzed.\n",
    "\n",
    "Since we will be looking at the difference in trip duration during the night and day, we need to define what constitutes night and day. For our purposes, I will define nighttime as any hour between 8pm and 5am. [8pm - 5am)"
   ]
  },
  {
   "cell_type": "code",
   "execution_count": 19,
   "metadata": {},
   "outputs": [
    {
     "name": "stderr",
     "output_type": "stream",
     "text": [
      "/usr/local/Anaconda3-5.0.0-Linux-x86_64/envs/PUI2016_Python3/lib/python3.5/site-packages/ipykernel/__main__.py:8: SettingWithCopyWarning: \n",
      "A value is trying to be set on a copy of a slice from a DataFrame.\n",
      "Try using .loc[row_indexer,col_indexer] = value instead\n",
      "\n",
      "See the caveats in the documentation: http://pandas.pydata.org/pandas-docs/stable/indexing.html#indexing-view-versus-copy\n",
      "/usr/local/Anaconda3-5.0.0-Linux-x86_64/envs/PUI2016_Python3/lib/python3.5/site-packages/ipykernel/__main__.py:9: SettingWithCopyWarning: \n",
      "A value is trying to be set on a copy of a slice from a DataFrame.\n",
      "Try using .loc[row_indexer,col_indexer] = value instead\n",
      "\n",
      "See the caveats in the documentation: http://pandas.pydata.org/pandas-docs/stable/indexing.html#indexing-view-versus-copy\n"
     ]
    },
    {
     "data": {
      "text/html": [
       "<div>\n",
       "<table border=\"1\" class=\"dataframe\">\n",
       "  <thead>\n",
       "    <tr style=\"text-align: right;\">\n",
       "      <th></th>\n",
       "      <th>tripduration</th>\n",
       "      <th>hour</th>\n",
       "    </tr>\n",
       "  </thead>\n",
       "  <tbody>\n",
       "    <tr>\n",
       "      <th>0</th>\n",
       "      <td>195</td>\n",
       "      <td>0</td>\n",
       "    </tr>\n",
       "    <tr>\n",
       "      <th>1</th>\n",
       "      <td>585</td>\n",
       "      <td>0</td>\n",
       "    </tr>\n",
       "    <tr>\n",
       "      <th>2</th>\n",
       "      <td>665</td>\n",
       "      <td>0</td>\n",
       "    </tr>\n",
       "    <tr>\n",
       "      <th>3</th>\n",
       "      <td>262</td>\n",
       "      <td>0</td>\n",
       "    </tr>\n",
       "    <tr>\n",
       "      <th>4</th>\n",
       "      <td>134</td>\n",
       "      <td>0</td>\n",
       "    </tr>\n",
       "  </tbody>\n",
       "</table>\n",
       "</div>"
      ],
      "text/plain": [
       "   tripduration  hour\n",
       "0           195     0\n",
       "1           585     0\n",
       "2           665     0\n",
       "3           262     0\n",
       "4           134     0"
      ]
     },
     "execution_count": 19,
     "metadata": {},
     "output_type": "execute_result"
    }
   ],
   "source": [
    "# Keep trip duration\n",
    "# convert starttime to datetime\n",
    "# create new 'hours' column and then drop all other columns. \n",
    "\n",
    "\n",
    "cb_data_DN = cb_data[['tripduration', 'starttime']]\n",
    "cb_data_DN['tripduration'].dropna(inplace=True)\n",
    "cb_data_DN['date'] = pd.to_datetime(cb_data_DN['starttime'])\n",
    "cb_data_DN['hour'] = cb_data_DN['date'].dt.hour\n",
    "cb_data_DN = cb_data_DN.drop(['starttime', 'date'], axis = 1)\n",
    "cb_data_DN.head()"
   ]
  },
  {
   "cell_type": "code",
   "execution_count": 20,
   "metadata": {},
   "outputs": [
    {
     "name": "stdout",
     "output_type": "stream",
     "text": [
      "      tripduration  hour  num_rides  avg_duration\n",
      "hour                                             \n",
      "0         88445975     0      72539   1219.288590\n",
      "1         43843503     1      39598   1107.215087\n",
      "2         24508183     2      22522   1088.188571\n",
      "3         20721777     3      13563   1527.816633\n",
      "4         17348624     4      13174   1316.883559\n",
      "5         31891596     5      47434    672.336215\n",
      "6        120390464     6     170791    704.899345\n",
      "7        282260672     7     344260    819.905513\n",
      "8        505785626     8     600432    842.369537\n",
      "9        420854452     9     487187    863.845817\n",
      "10       360447337    10     355098   1015.064396\n",
      "11       422026009    11     382126   1104.415845\n",
      "12       497633101    12     436041   1141.253004\n",
      "13       522332101    13     455392   1146.994460\n",
      "14       564280046    14     468338   1204.856420\n",
      "15       603413215    15     494712   1219.726255\n",
      "16       682892989    16     576912   1183.703908\n",
      "17       879835971    17     808111   1088.756335\n",
      "18       874534514    18     790533   1106.259339\n",
      "19       620369935    19     568229   1091.760426\n",
      "20       447025904    20     384996   1161.118308\n",
      "21       303154748    21     263207   1151.773122\n",
      "22       224926071    22     199073   1129.867290\n",
      "23       166218892    23     128095   1297.622015\n"
     ]
    },
    {
     "name": "stderr",
     "output_type": "stream",
     "text": [
      "/usr/local/Anaconda3-5.0.0-Linux-x86_64/envs/PUI2016_Python3/lib/python3.5/site-packages/ipykernel/__main__.py:8: FutureWarning: sort(columns=....) is deprecated, use sort_values(by=.....)\n"
     ]
    }
   ],
   "source": [
    "#Count the number of rides per hour\n",
    "num_hourly_rides = cb_data_DN['hour'].value_counts()\n",
    "num_hourly_rides = num_hourly_rides.sort_index()\n",
    "\n",
    "#Sum trip duration by hour. \n",
    "trip_dur_grouped = cb_data_DN.groupby('hour').sum()\n",
    "trip_dur_grouped['hour'] = trip_dur_grouped.index\n",
    "trip_dur_grouped = trip_dur_grouped.sort(['hour'], ascending=True)\n",
    "\n",
    "\n",
    "#Divide summed trip duration by num_hourly_rides\n",
    "trip_dur_grouped['num_rides'] = num_hourly_rides\n",
    "trip_dur_grouped['avg_duration'] = trip_dur_grouped['tripduration'] / trip_dur_grouped['num_rides']\n",
    "print(trip_dur_grouped)"
   ]
  },
  {
   "cell_type": "code",
   "execution_count": 21,
   "metadata": {},
   "outputs": [
    {
     "data": {
      "image/png": "[encoded data removed]",
      "text/plain": [
       "<matplotlib.figure.Figure at 0x7f7de08760f0>"
      ]
     },
     "metadata": {},
     "output_type": "display_data"
    }
   ],
   "source": [
    "plt.figure(figsize=(12,12))\n",
    "plt.bar(trip_dur_grouped['hour'], trip_dur_grouped['avg_duration'])\n",
    "plt.title(\"Average Duration of Rides\", fontsize=20)\n",
    "plt.xlabel(\"Hour of day\", fontsize=15)\n",
    "plt.ylabel(\"Duration (Seconds)\", fontsize=15)\n",
    "plt.grid(True)"
   ]
  },
  {
   "cell_type": "code",
   "execution_count": null,
   "metadata": {},
   "outputs": [],
   "source": []
  },
  {
   "cell_type": "markdown",
   "metadata": {},
   "source": [
    "### Hour change for nighttime vs daytime for the Pearson test. Needed to be equal nightime and daytime hours..."
   ]
  },
  {
   "cell_type": "code",
   "execution_count": 23,
   "metadata": {},
   "outputs": [
    {
     "name": "stdout",
     "output_type": "stream",
     "text": [
      "(1923221, 2)\n",
      "   tripduration  hour\n",
      "0           195     0\n",
      "1           585     0\n",
      "2           665     0\n",
      "3           262     0\n",
      "4           134     0\n"
     ]
    }
   ],
   "source": [
    "# Split df into night hours and day hours\n",
    "\n",
    "night_time_rides = cb_data_DN.loc[(cb_data_DN['hour'] < 7) | (cb_data_DN['hour'] > 18)]\n",
    "day_time_rides = cb_data_DN.loc[(cb_data_DN['hour'] > 6) & (cb_data_DN['hour'] < 19)]\n"
   ]
  },
  {
   "cell_type": "code",
   "execution_count": 25,
   "metadata": {},
   "outputs": [
    {
     "name": "stdout",
     "output_type": "stream",
     "text": [
      "Ks_2sampResult(statistic=0.040634689346221275, pvalue=0.0)\n",
      "Ks_2sampResult(statistic=0.075000000000000011, pvalue=0.61065382855701833)\n"
     ]
    }
   ],
   "source": [
    "## KS Test (Full and only with 200 datapoints)\n",
    "## Returned value will be KS statistic and pvalue\n",
    "\n",
    "ks_full = scipy.stats.ks_2samp(night_time_rides.tripduration, day_time_rides.tripduration)\n",
    "print(ks_full)\n",
    "\n",
    "\n",
    "\n",
    "#Get sample of dataframes\n",
    "night_sample = night_time_rides.sample(n = 200, random_state=1)\n",
    "day_sample = day_time_rides.sample(n=200, random_state=1)\n",
    "\n",
    "ks_partial = scipy.stats.ks_2samp(night_sample.tripduration, day_sample.tripduration)\n",
    "print(ks_partial)"
   ]
  },
  {
   "cell_type": "markdown",
   "metadata": {},
   "source": [
    "## Complete Analysis for KS test (Still needs work)\n",
    "\n",
    "Here we performed two KS tests, one with the entire dataframes and one taking only 200 datapoints from each one. Looking at the full KS test, the p-value is 0.0 which is below our significance level, meaning we can reject our null hypothesis. But the KS statistic is small and that means...\n",
    "\n",
    "For the KS test, using a sample of each dataframe, the p-value is 0.6106. This is a two tailed p-value, so the number we are looking for is going to be half of that at *p-value = 0.3053*. Since the KS statistic is also small, this means we cannot reject the null hypothesis that trip durations are different at night time and daytime. \n",
    "\n",
    "By performing the analysis on the entire dataframe and then only a sample of the dataframe, we just showed that... "
   ]
  },
  {
   "cell_type": "markdown",
   "metadata": {},
   "source": [
    "### Pearson Test"
   ]
  },
  {
   "cell_type": "code",
   "execution_count": 27,
   "metadata": {},
   "outputs": [
    {
     "name": "stdout",
     "output_type": "stream",
     "text": [
      "(-0.0057391767245676762, 0.7975605826337786)\n"
     ]
    }
   ],
   "source": [
    "## Pearson Test\n",
    "## Returned value will be (a,b) where a is Pearson's correlation coefficient and b is the 2-tailed p value\n",
    "\n",
    "night_sample = night_time_rides.sample(n = 2000, random_state=1)\n",
    "day_sample = day_time_rides.sample(n=2000, random_state=1)\n",
    "\n",
    "pearson_test = scipy.stats.pearsonr(night_sample.tripduration, day_sample.tripduration)\n",
    "print(pearson_test)\n",
    "\n",
    "\n"
   ]
  },
  {
   "cell_type": "markdown",
   "metadata": {},
   "source": [
    "## Complete Analysis for Pearson test\n",
    "\n",
    "From the Pearson test result above, we fail to reject the null hypothesis, as our two tailed p-value is 0.79. With a significance level set at 0.05, 0.79/2 = 0.395 is not significant. Pearson's correlation value returned also indicates that there is no correlation between the two datasets. "
   ]
  },
  {
   "cell_type": "markdown",
   "metadata": {},
   "source": [
    "### Spearman's Test"
   ]
  },
  {
   "cell_type": "code",
   "execution_count": 28,
   "metadata": {},
   "outputs": [
    {
     "name": "stdout",
     "output_type": "stream",
     "text": [
      "SpearmanrResult(correlation=0.0064191379042276954, pvalue=0.77419190907273205)\n"
     ]
    }
   ],
   "source": [
    "## Spearman's test\n",
    "## Returned value will be Spearman's correlation and 2-tailed pvalue. \n",
    "\n",
    "\n",
    "\n",
    "spearman_test = scipy.stats.spearmanr(night_sample.tripduration, day_sample.tripduration)\n",
    "print(spearman_test)"
   ]
  },
  {
   "cell_type": "markdown",
   "metadata": {},
   "source": [
    "## Complete Analysis for Spearman Test\n",
    "\n",
    "From the Spearman test above, we fail to reject the null hypothesis, as our two tailed p-value is 0.77 which is not significant at $ \\sigma = 0.05 $. Much like the Pearson test, the correlation is nearly 0, indicating no correlation between the two datasets. "
   ]
  },
  {
   "cell_type": "markdown",
   "metadata": {},
   "source": [
    "# Start BK/Manhattan Analysis here\n",
    "\n",
    "## Null Hypothesis\n",
    "\n"
   ]
  },
  {
   "cell_type": "code",
   "execution_count": 72,
   "metadata": {},
   "outputs": [
    {
     "data": {
      "text/html": [
       "<div>\n",
       "<table border=\"1\" class=\"dataframe\">\n",
       "  <thead>\n",
       "    <tr style=\"text-align: right;\">\n",
       "      <th></th>\n",
       "      <th>tripduration</th>\n",
       "      <th>starttime</th>\n",
       "      <th>stoptime</th>\n",
       "      <th>start station id</th>\n",
       "      <th>start station name</th>\n",
       "      <th>start station latitude</th>\n",
       "      <th>start station longitude</th>\n",
       "      <th>end station id</th>\n",
       "      <th>end station name</th>\n",
       "      <th>end station latitude</th>\n",
       "      <th>end station longitude</th>\n",
       "      <th>bikeid</th>\n",
       "      <th>usertype</th>\n",
       "      <th>birth year</th>\n",
       "      <th>gender</th>\n",
       "      <th>date</th>\n",
       "    </tr>\n",
       "  </thead>\n",
       "  <tbody>\n",
       "    <tr>\n",
       "      <th>0</th>\n",
       "      <td>195</td>\n",
       "      <td>2017-04-01 00:00:58</td>\n",
       "      <td>2017-04-01 00:04:14</td>\n",
       "      <td>217</td>\n",
       "      <td>Old Fulton St</td>\n",
       "      <td>40.702772</td>\n",
       "      <td>-73.993836</td>\n",
       "      <td>430</td>\n",
       "      <td>York St &amp; Jay St</td>\n",
       "      <td>40.701485</td>\n",
       "      <td>-73.986569</td>\n",
       "      <td>25454</td>\n",
       "      <td>Subscriber</td>\n",
       "      <td>1966.0</td>\n",
       "      <td>1</td>\n",
       "      <td>2017-08-01 00:00:00</td>\n",
       "    </tr>\n",
       "    <tr>\n",
       "      <th>1</th>\n",
       "      <td>585</td>\n",
       "      <td>2017-04-01 00:01:54</td>\n",
       "      <td>2017-04-01 00:11:40</td>\n",
       "      <td>490</td>\n",
       "      <td>8 Ave &amp; W 33 St</td>\n",
       "      <td>40.751551</td>\n",
       "      <td>-73.993934</td>\n",
       "      <td>3158</td>\n",
       "      <td>W 63 St &amp; Broadway</td>\n",
       "      <td>40.771639</td>\n",
       "      <td>-73.982614</td>\n",
       "      <td>25930</td>\n",
       "      <td>Subscriber</td>\n",
       "      <td>1995.0</td>\n",
       "      <td>1</td>\n",
       "      <td>2017-08-01 00:00:10</td>\n",
       "    </tr>\n",
       "    <tr>\n",
       "      <th>2</th>\n",
       "      <td>665</td>\n",
       "      <td>2017-04-01 00:01:56</td>\n",
       "      <td>2017-04-01 00:13:01</td>\n",
       "      <td>504</td>\n",
       "      <td>1 Ave &amp; E 16 St</td>\n",
       "      <td>40.732219</td>\n",
       "      <td>-73.981656</td>\n",
       "      <td>412</td>\n",
       "      <td>Forsyth St &amp; Canal St</td>\n",
       "      <td>40.715816</td>\n",
       "      <td>-73.994224</td>\n",
       "      <td>27110</td>\n",
       "      <td>Subscriber</td>\n",
       "      <td>1987.0</td>\n",
       "      <td>1</td>\n",
       "      <td>2017-08-01 00:00:17</td>\n",
       "    </tr>\n",
       "    <tr>\n",
       "      <th>3</th>\n",
       "      <td>262</td>\n",
       "      <td>2017-04-01 00:02:24</td>\n",
       "      <td>2017-04-01 00:06:47</td>\n",
       "      <td>445</td>\n",
       "      <td>E 10 St &amp; Avenue A</td>\n",
       "      <td>40.727408</td>\n",
       "      <td>-73.981420</td>\n",
       "      <td>411</td>\n",
       "      <td>E 6 St &amp; Avenue D</td>\n",
       "      <td>40.722281</td>\n",
       "      <td>-73.976687</td>\n",
       "      <td>28392</td>\n",
       "      <td>Subscriber</td>\n",
       "      <td>1961.0</td>\n",
       "      <td>1</td>\n",
       "      <td>2017-08-01 00:00:27</td>\n",
       "    </tr>\n",
       "    <tr>\n",
       "      <th>4</th>\n",
       "      <td>134</td>\n",
       "      <td>2017-04-01 00:02:36</td>\n",
       "      <td>2017-04-01 00:04:50</td>\n",
       "      <td>3423</td>\n",
       "      <td>West Drive &amp; Prospect Park West</td>\n",
       "      <td>40.661063</td>\n",
       "      <td>-73.979453</td>\n",
       "      <td>3300</td>\n",
       "      <td>Prospect Park West &amp; 8 St</td>\n",
       "      <td>40.665147</td>\n",
       "      <td>-73.976376</td>\n",
       "      <td>19316</td>\n",
       "      <td>Subscriber</td>\n",
       "      <td>1967.0</td>\n",
       "      <td>2</td>\n",
       "      <td>2017-08-01 00:00:41</td>\n",
       "    </tr>\n",
       "  </tbody>\n",
       "</table>\n",
       "</div>"
      ],
      "text/plain": [
       "   tripduration            starttime             stoptime  start station id  \\\n",
       "0           195  2017-04-01 00:00:58  2017-04-01 00:04:14               217   \n",
       "1           585  2017-04-01 00:01:54  2017-04-01 00:11:40               490   \n",
       "2           665  2017-04-01 00:01:56  2017-04-01 00:13:01               504   \n",
       "3           262  2017-04-01 00:02:24  2017-04-01 00:06:47               445   \n",
       "4           134  2017-04-01 00:02:36  2017-04-01 00:04:50              3423   \n",
       "\n",
       "                start station name  start station latitude  \\\n",
       "0                    Old Fulton St               40.702772   \n",
       "1                  8 Ave & W 33 St               40.751551   \n",
       "2                  1 Ave & E 16 St               40.732219   \n",
       "3               E 10 St & Avenue A               40.727408   \n",
       "4  West Drive & Prospect Park West               40.661063   \n",
       "\n",
       "   start station longitude  end station id           end station name  \\\n",
       "0               -73.993836             430           York St & Jay St   \n",
       "1               -73.993934            3158         W 63 St & Broadway   \n",
       "2               -73.981656             412      Forsyth St & Canal St   \n",
       "3               -73.981420             411          E 6 St & Avenue D   \n",
       "4               -73.979453            3300  Prospect Park West & 8 St   \n",
       "\n",
       "   end station latitude  end station longitude  bikeid    usertype  \\\n",
       "0             40.701485             -73.986569   25454  Subscriber   \n",
       "1             40.771639             -73.982614   25930  Subscriber   \n",
       "2             40.715816             -73.994224   27110  Subscriber   \n",
       "3             40.722281             -73.976687   28392  Subscriber   \n",
       "4             40.665147             -73.976376   19316  Subscriber   \n",
       "\n",
       "   birth year  gender                date  \n",
       "0      1966.0       1 2017-08-01 00:00:00  \n",
       "1      1995.0       1 2017-08-01 00:00:10  \n",
       "2      1987.0       1 2017-08-01 00:00:17  \n",
       "3      1961.0       1 2017-08-01 00:00:27  \n",
       "4      1967.0       2 2017-08-01 00:00:41  "
      ]
     },
     "execution_count": 72,
     "metadata": {},
     "output_type": "execute_result"
    }
   ],
   "source": [
    "cb_data.head()"
   ]
  },
  {
   "cell_type": "code",
   "execution_count": null,
   "metadata": {},
   "outputs": [],
   "source": []
  }
 ],
 "metadata": {
  "kernelspec": {
   "display_name": "PUI2016_Python3",
   "language": "python",
   "name": "pui2016_python3"
  },
  "language_info": {
   "codemirror_mode": {
    "name": "ipython",
    "version": 3
   },
   "file_extension": ".py",
   "mimetype": "text/x-python",
   "name": "python",
   "nbconvert_exporter": "python",
   "pygments_lexer": "ipython3",
   "version": "3.5.4"
  }
 },
 "nbformat": 4,
 "nbformat_minor": 2
}
