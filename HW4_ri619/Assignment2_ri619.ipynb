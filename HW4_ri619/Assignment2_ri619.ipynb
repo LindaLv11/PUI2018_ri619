{
 "cells": [
  {
   "cell_type": "code",
   "execution_count": 11,
   "metadata": {},
   "outputs": [
    {
     "name": "stdout",
     "output_type": "stream",
     "text": [
      "Populating the interactive namespace from numpy and matplotlib\n"
     ]
    }
   ],
   "source": [
    "import pylab as pl\n",
    "import pandas as pd\n",
    "import numpy as np\n",
    "import os\n",
    "import json\n",
    "\n",
    "%pylab inline"
   ]
  },
  {
   "cell_type": "markdown",
   "metadata": {},
   "source": [
    "# Idea\n",
    "\n",
    "\n",
    "#### Men are more likely to ride at night than women. \n"
   ]
  },
  {
   "cell_type": "markdown",
   "metadata": {},
   "source": [
    "# Hypotheses\n",
    "\n",
    "## Null:  \n",
    "\n",
    "    The average difference between male and female ridership during the last 4 hours of the day and first 4 hours of the day is the larger than the average difference at all other times.  \n",
    "\n",
    "    Let M be Male and F be Female\n",
    "    \n",
    "_$H_0$ : $\\frac{M{\\mathrm{nighttime}} - F{\\mathrm{nighttime}}}{M{\\mathrm{nighttime}} + F{\\mathrm{nighttime}}} -  \\frac{M{\\mathrm{daytime}} - F{\\mathrm{daytime}}}{M{\\mathrm{daytime}} + F{\\mathrm{daytime}}} > 0 $\n",
    "\n",
    "_$H_1$ : $\\frac{M{\\mathrm{nighttime}} - F{\\mathrm{nighttime}}}{M{\\mathrm{nighttime}} + F{\\mathrm{nighttime}}} -  \\frac{M{\\mathrm{daytime}} - F{\\mathrm{daytime}}}{M{\\mathrm{daytime}} + F{\\mathrm{daytime}}} <= 0 $"
   ]
  },
  {
   "cell_type": "code",
   "execution_count": 12,
   "metadata": {},
   "outputs": [],
   "source": [
    "# Download data and move to PUIDATA...\n",
    "#  The following function will create the necessary commands\n",
    "#   to download the data from CitiBike's website and load them\n",
    "#   into multiple csv's.\n",
    "\n",
    "def CitiBikedata(date):\n",
    "    #create url to download data\n",
    "    url = \"https://s3.amazonaws.com/tripdata/\" + date + \"-citibike-tripdata.csv.zip\"\n",
    "    os.system(\"curl -O \" + url)\n",
    "    os.system(\"unzip \" + date + \"-citibike-tripdata.csv.zip\")\n",
    "    os.system(\"mv \" + date + \"-citibike-tripdata.csv $PUIDATA\")\n",
    "    os.system(\"rm \" + date + \"-citibike-tripdata.csv.zip\")"
   ]
  },
  {
   "cell_type": "code",
   "execution_count": 13,
   "metadata": {},
   "outputs": [
    {
     "name": "stdout",
     "output_type": "stream",
     "text": [
      "Loading data from 201704\n",
      "Loading data from 201705\n",
      "Loading data from 201706\n",
      "Loading data from 201707\n",
      "Loading data from 201708\n"
     ]
    }
   ],
   "source": [
    "#Download a 5 month range of data from April 2017 to August 2017. This for loop will load each csv into a dataframe\n",
    "#  and add it to a list called frames. In the next cell, all these dataframes are concatenated into one dataframe to \n",
    "#  be used for the analysis. \n",
    "\n",
    "date_call_int = 201703\n",
    "frames = []\n",
    "for i in range(5):\n",
    "    date_call_int = date_call_int + 1\n",
    "    date_call = str(date_call_int)\n",
    "    print(\"Loading data from \" + date_call)\n",
    "    CitiBikedata(date_call)\n",
    "    df = pd.read_csv(os.getenv(\"PUIDATA\") + \"/\" + date_call + '-citibike-tripdata.csv')\n",
    "    frames.append(df)\n"
   ]
  },
  {
   "cell_type": "code",
   "execution_count": 14,
   "metadata": {},
   "outputs": [
    {
     "data": {
      "text/html": [
       "<div>\n",
       "<table border=\"1\" class=\"dataframe\">\n",
       "  <thead>\n",
       "    <tr style=\"text-align: right;\">\n",
       "      <th></th>\n",
       "      <th>tripduration</th>\n",
       "      <th>starttime</th>\n",
       "      <th>stoptime</th>\n",
       "      <th>start station id</th>\n",
       "      <th>start station name</th>\n",
       "      <th>start station latitude</th>\n",
       "      <th>start station longitude</th>\n",
       "      <th>end station id</th>\n",
       "      <th>end station name</th>\n",
       "      <th>end station latitude</th>\n",
       "      <th>end station longitude</th>\n",
       "      <th>bikeid</th>\n",
       "      <th>usertype</th>\n",
       "      <th>birth year</th>\n",
       "      <th>gender</th>\n",
       "    </tr>\n",
       "  </thead>\n",
       "  <tbody>\n",
       "    <tr>\n",
       "      <th>0</th>\n",
       "      <td>195</td>\n",
       "      <td>2017-04-01 00:00:58</td>\n",
       "      <td>2017-04-01 00:04:14</td>\n",
       "      <td>217</td>\n",
       "      <td>Old Fulton St</td>\n",
       "      <td>40.702772</td>\n",
       "      <td>-73.993836</td>\n",
       "      <td>430</td>\n",
       "      <td>York St &amp; Jay St</td>\n",
       "      <td>40.701485</td>\n",
       "      <td>-73.986569</td>\n",
       "      <td>25454</td>\n",
       "      <td>Subscriber</td>\n",
       "      <td>1966.0</td>\n",
       "      <td>1</td>\n",
       "    </tr>\n",
       "    <tr>\n",
       "      <th>1</th>\n",
       "      <td>585</td>\n",
       "      <td>2017-04-01 00:01:54</td>\n",
       "      <td>2017-04-01 00:11:40</td>\n",
       "      <td>490</td>\n",
       "      <td>8 Ave &amp; W 33 St</td>\n",
       "      <td>40.751551</td>\n",
       "      <td>-73.993934</td>\n",
       "      <td>3158</td>\n",
       "      <td>W 63 St &amp; Broadway</td>\n",
       "      <td>40.771639</td>\n",
       "      <td>-73.982614</td>\n",
       "      <td>25930</td>\n",
       "      <td>Subscriber</td>\n",
       "      <td>1995.0</td>\n",
       "      <td>1</td>\n",
       "    </tr>\n",
       "    <tr>\n",
       "      <th>2</th>\n",
       "      <td>665</td>\n",
       "      <td>2017-04-01 00:01:56</td>\n",
       "      <td>2017-04-01 00:13:01</td>\n",
       "      <td>504</td>\n",
       "      <td>1 Ave &amp; E 16 St</td>\n",
       "      <td>40.732219</td>\n",
       "      <td>-73.981656</td>\n",
       "      <td>412</td>\n",
       "      <td>Forsyth St &amp; Canal St</td>\n",
       "      <td>40.715816</td>\n",
       "      <td>-73.994224</td>\n",
       "      <td>27110</td>\n",
       "      <td>Subscriber</td>\n",
       "      <td>1987.0</td>\n",
       "      <td>1</td>\n",
       "    </tr>\n",
       "    <tr>\n",
       "      <th>3</th>\n",
       "      <td>262</td>\n",
       "      <td>2017-04-01 00:02:24</td>\n",
       "      <td>2017-04-01 00:06:47</td>\n",
       "      <td>445</td>\n",
       "      <td>E 10 St &amp; Avenue A</td>\n",
       "      <td>40.727408</td>\n",
       "      <td>-73.981420</td>\n",
       "      <td>411</td>\n",
       "      <td>E 6 St &amp; Avenue D</td>\n",
       "      <td>40.722281</td>\n",
       "      <td>-73.976687</td>\n",
       "      <td>28392</td>\n",
       "      <td>Subscriber</td>\n",
       "      <td>1961.0</td>\n",
       "      <td>1</td>\n",
       "    </tr>\n",
       "    <tr>\n",
       "      <th>4</th>\n",
       "      <td>134</td>\n",
       "      <td>2017-04-01 00:02:36</td>\n",
       "      <td>2017-04-01 00:04:50</td>\n",
       "      <td>3423</td>\n",
       "      <td>West Drive &amp; Prospect Park West</td>\n",
       "      <td>40.661063</td>\n",
       "      <td>-73.979453</td>\n",
       "      <td>3300</td>\n",
       "      <td>Prospect Park West &amp; 8 St</td>\n",
       "      <td>40.665147</td>\n",
       "      <td>-73.976376</td>\n",
       "      <td>19316</td>\n",
       "      <td>Subscriber</td>\n",
       "      <td>1967.0</td>\n",
       "      <td>2</td>\n",
       "    </tr>\n",
       "  </tbody>\n",
       "</table>\n",
       "</div>"
      ],
      "text/plain": [
       "   tripduration            starttime             stoptime  start station id  \\\n",
       "0           195  2017-04-01 00:00:58  2017-04-01 00:04:14               217   \n",
       "1           585  2017-04-01 00:01:54  2017-04-01 00:11:40               490   \n",
       "2           665  2017-04-01 00:01:56  2017-04-01 00:13:01               504   \n",
       "3           262  2017-04-01 00:02:24  2017-04-01 00:06:47               445   \n",
       "4           134  2017-04-01 00:02:36  2017-04-01 00:04:50              3423   \n",
       "\n",
       "                start station name  start station latitude  \\\n",
       "0                    Old Fulton St               40.702772   \n",
       "1                  8 Ave & W 33 St               40.751551   \n",
       "2                  1 Ave & E 16 St               40.732219   \n",
       "3               E 10 St & Avenue A               40.727408   \n",
       "4  West Drive & Prospect Park West               40.661063   \n",
       "\n",
       "   start station longitude  end station id           end station name  \\\n",
       "0               -73.993836             430           York St & Jay St   \n",
       "1               -73.993934            3158         W 63 St & Broadway   \n",
       "2               -73.981656             412      Forsyth St & Canal St   \n",
       "3               -73.981420             411          E 6 St & Avenue D   \n",
       "4               -73.979453            3300  Prospect Park West & 8 St   \n",
       "\n",
       "   end station latitude  end station longitude  bikeid    usertype  \\\n",
       "0             40.701485             -73.986569   25454  Subscriber   \n",
       "1             40.771639             -73.982614   25930  Subscriber   \n",
       "2             40.715816             -73.994224   27110  Subscriber   \n",
       "3             40.722281             -73.976687   28392  Subscriber   \n",
       "4             40.665147             -73.976376   19316  Subscriber   \n",
       "\n",
       "   birth year  gender  \n",
       "0      1966.0       1  \n",
       "1      1995.0       1  \n",
       "2      1987.0       1  \n",
       "3      1961.0       1  \n",
       "4      1967.0       2  "
      ]
     },
     "execution_count": 14,
     "metadata": {},
     "output_type": "execute_result"
    }
   ],
   "source": [
    "df_2017_summer = pd.concat(frames)\n",
    "df_2017_summer.head()"
   ]
  },
  {
   "cell_type": "code",
   "execution_count": 15,
   "metadata": {},
   "outputs": [
    {
     "name": "stderr",
     "output_type": "stream",
     "text": [
      "/usr/local/Anaconda3-5.0.0-Linux-x86_64/envs/PUI2016_Python3/lib/python3.5/site-packages/ipykernel/__main__.py:3: SettingWithCopyWarning: \n",
      "A value is trying to be set on a copy of a slice from a DataFrame.\n",
      "Try using .loc[row_indexer,col_indexer] = value instead\n",
      "\n",
      "See the caveats in the documentation: http://pandas.pydata.org/pandas-docs/stable/indexing.html#indexing-view-versus-copy\n",
      "  app.launch_new_instance()\n",
      "/usr/local/Anaconda3-5.0.0-Linux-x86_64/envs/PUI2016_Python3/lib/python3.5/site-packages/ipykernel/__main__.py:4: SettingWithCopyWarning: \n",
      "A value is trying to be set on a copy of a slice from a DataFrame.\n",
      "Try using .loc[row_indexer,col_indexer] = value instead\n",
      "\n",
      "See the caveats in the documentation: http://pandas.pydata.org/pandas-docs/stable/indexing.html#indexing-view-versus-copy\n"
     ]
    },
    {
     "data": {
      "text/html": [
       "<div>\n",
       "<table border=\"1\" class=\"dataframe\">\n",
       "  <thead>\n",
       "    <tr style=\"text-align: right;\">\n",
       "      <th></th>\n",
       "      <th>gender</th>\n",
       "      <th>hour</th>\n",
       "    </tr>\n",
       "  </thead>\n",
       "  <tbody>\n",
       "    <tr>\n",
       "      <th>0</th>\n",
       "      <td>1</td>\n",
       "      <td>0</td>\n",
       "    </tr>\n",
       "    <tr>\n",
       "      <th>1</th>\n",
       "      <td>1</td>\n",
       "      <td>0</td>\n",
       "    </tr>\n",
       "    <tr>\n",
       "      <th>2</th>\n",
       "      <td>1</td>\n",
       "      <td>0</td>\n",
       "    </tr>\n",
       "    <tr>\n",
       "      <th>3</th>\n",
       "      <td>1</td>\n",
       "      <td>0</td>\n",
       "    </tr>\n",
       "    <tr>\n",
       "      <th>4</th>\n",
       "      <td>2</td>\n",
       "      <td>0</td>\n",
       "    </tr>\n",
       "  </tbody>\n",
       "</table>\n",
       "</div>"
      ],
      "text/plain": [
       "   gender  hour\n",
       "0       1     0\n",
       "1       1     0\n",
       "2       1     0\n",
       "3       1     0\n",
       "4       2     0"
      ]
     },
     "execution_count": 15,
     "metadata": {},
     "output_type": "execute_result"
    }
   ],
   "source": [
    "#Drop columns I do not need\n",
    "df_2017_summer_curated = df_2017_summer[['starttime', 'gender']]\n",
    "df_2017_summer_curated['hour'] = pd.to_datetime(df_2017_summer_curated['starttime'])\n",
    "df_2017_summer_curated['hour'] = df_2017_summer_curated['hour'].dt.hour\n",
    "df_2017_summer_curated = df_2017_summer_curated[['gender', 'hour']]\n",
    "df_2017_summer_curated.head()\n"
   ]
  },
  {
   "cell_type": "code",
   "execution_count": 16,
   "metadata": {},
   "outputs": [],
   "source": [
    "#We want to create two types of plots here to show the different trends for male and female riders.\n",
    "#Male df - 1 is male. 2 is female\n",
    "male_df = df_2017_summer_curated.loc[df_2017_summer_curated['gender'] == 1]\n",
    "female_df = df_2017_summer_curated.loc[df_2017_summer_curated['gender'] == 2]\n",
    "\n",
    "#When calculating the total female riders we have to divide by 2, since in Female indicator in our data is 2. \n",
    "# If we were to take a direct sum without dividing by 2 we would be caluclating double the female riders than\n",
    "# there actually are.\n",
    "male_df_sum = male_df.groupby('hour').sum()\n",
    "female_df_sum = female_df.groupby('hour').sum() / 2"
   ]
  },
  {
   "cell_type": "code",
   "execution_count": 17,
   "metadata": {},
   "outputs": [
    {
     "data": {
      "text/plain": [
       "Text(0,0.5,'Number of Riders')"
      ]
     },
     "execution_count": 17,
     "metadata": {},
     "output_type": "execute_result"
    },
    {
     "data": {
      "image/png": "[encoded data removed]",
      "text/plain": [
       "<matplotlib.figure.Figure at 0x7f3619703e48>"
      ]
     },
     "metadata": {},
     "output_type": "display_data"
    }
   ],
   "source": [
    "#Overall male ridership based on hour of day\n",
    "\n",
    "pl.figure(figsize=(10,10))\n",
    "pl.bar(male_df_sum.index, male_df_sum['gender'])\n",
    "pl.title(\"Male Ridership\", fontsize = 20)\n",
    "pl.xlabel(\"Hour of Day\", fontsize = 15)\n",
    "pl.ylabel(\"Number of Riders\", fontsize = 15)"
   ]
  },
  {
   "cell_type": "markdown",
   "metadata": {},
   "source": [
    "## Male Ridership\n",
    "\n",
    "From this bar chart, we can see that male ridership peaks during morning and evening rush hours, as well as a slight increase at during lunchtime. "
   ]
  },
  {
   "cell_type": "code",
   "execution_count": 18,
   "metadata": {},
   "outputs": [
    {
     "data": {
      "text/plain": [
       "Text(0,0.5,'Number of Riders')"
      ]
     },
     "execution_count": 18,
     "metadata": {},
     "output_type": "execute_result"
    },
    {
     "data": {
      "image/png": "[encoded data removed]",
      "text/plain": [
       "<matplotlib.figure.Figure at 0x7f36428145c0>"
      ]
     },
     "metadata": {},
     "output_type": "display_data"
    }
   ],
   "source": [
    "#Overall female ridership based on hour of day\n",
    "\n",
    "pl.figure(figsize=(10,10))\n",
    "pl.bar(female_df_sum.index, female_df_sum['gender'])\n",
    "#pl.hist(female_df['hour'], bins = 24, ec = 'black')\n",
    "pl.title(\"Female Ridership\", fontsize = 20)\n",
    "pl.xlabel(\"Hour of Day\", fontsize = 15)\n",
    "pl.ylabel(\"Number of Riders\", fontsize = 15)"
   ]
  },
  {
   "cell_type": "markdown",
   "metadata": {},
   "source": [
    "## Female Ridership\n",
    "\n",
    "From this bar chart, we can see that female ridership peaks during morning and evening rush hours, as well as a slight increase at during lunchtime. Female ridership is also very low during the early hours of the day. \n",
    "\n",
    "Based on raw numbers, female ridership is substantially lower than male ridership. (A peak of 175,000 versus 500,000)"
   ]
  },
  {
   "cell_type": "code",
   "execution_count": 19,
   "metadata": {},
   "outputs": [
    {
     "data": {
      "image/png": "[encoded data removed]",
      "text/plain": [
       "<matplotlib.figure.Figure at 0x7f3642814eb8>"
      ]
     },
     "metadata": {},
     "output_type": "display_data"
    }
   ],
   "source": [
    "#Plot a stacked bar chart to visualize raw difference between male and female ridership.\n",
    "\n",
    "pl.figure(figsize = (10,10))\n",
    "pl.title(\"Stacked Bar Chart of Male and Female Ridership\", fontsize = 20)\n",
    "pl.ylabel(\"Total Riders\", fontsize = 15)\n",
    "pl.xlabel(\"Hour of Day\", fontsize = 15)\n",
    "p_1 = pl.bar(male_df_sum.index, male_df_sum['gender'], color = 'green')\n",
    "p_2 = pl.bar(female_df_sum.index, female_df_sum['gender'], bottom = male_df_sum['gender'], color = 'red')\n",
    "pl.legend((p_1[0], p_2[0]), ('Male', 'Female'))\n",
    "pl.show()\n"
   ]
  },
  {
   "cell_type": "markdown",
   "metadata": {},
   "source": [
    "## Stacked Bar Chart \n",
    "\n",
    "This chart mirrors the above two in it's overall shape. However, looking at the nighttime hours we can see that the proportion of women riders to the total is significantly smaller than during the rest of the day. "
   ]
  },
  {
   "cell_type": "code",
   "execution_count": 20,
   "metadata": {},
   "outputs": [
    {
     "data": {
      "text/plain": [
       "Text(0,0.5,'Normalized Difference')"
      ]
     },
     "execution_count": 20,
     "metadata": {},
     "output_type": "execute_result"
    },
    {
     "data": {
      "image/png": "[encoded data removed]",
      "text/plain": [
       "<matplotlib.figure.Figure at 0x7f36196c15f8>"
      ]
     },
     "metadata": {},
     "output_type": "display_data"
    }
   ],
   "source": [
    "#Calculate male/female ridership at nighttime versus daytime. \n",
    "# And use Null hypothesis equations to plot some normalized data. \n",
    "# Plot normalized differences between male and female riders..\n",
    "\n",
    "#Normalize differences between male/female ridership and then plot bar chart\n",
    "difference = male_df_sum - female_df_sum\n",
    "total = male_df_sum + female_df_sum\n",
    "normalized = difference/total\n",
    "\n",
    "\n",
    "\n",
    "pl.figure(figsize=(10,10))\n",
    "pl.bar(normalized.index, normalized['gender'])\n",
    "pl.title(\"Normalized Difference in Ridership (Male - Female)\", fontsize = 20)\n",
    "pl.xlabel(\"Hour of Day\", fontsize = 15)\n",
    "pl.ylabel(\"Normalized Difference\", fontsize = 15)\n"
   ]
  },
  {
   "cell_type": "markdown",
   "metadata": {},
   "source": [
    "# Figure\n",
    "\n",
    "The normalized difference calculated above was done in the following manner: $\\frac{M{\\mathrm{x_{hour}}} - F{\\mathrm{x_{hour}}}}{M{\\mathrm{x_{hour}}} + F{\\mathrm{x_{hour}}}}$\n",
    "\n",
    "By normalizing in such a manner, we are able to calculate the difference between male/female ridership without having to worry about the raw numbers and focus purely on difference per hour.\n"
   ]
  },
  {
   "cell_type": "code",
   "execution_count": 56,
   "metadata": {},
   "outputs": [],
   "source": []
  },
  {
   "cell_type": "code",
   "execution_count": null,
   "metadata": {},
   "outputs": [],
   "source": []
  }
 ],
 "metadata": {
  "kernelspec": {
   "display_name": "PUI2016_Python3",
   "language": "python",
   "name": "pui2016_python3"
  },
  "language_info": {
   "codemirror_mode": {
    "name": "ipython",
    "version": 3
   },
   "file_extension": ".py",
   "mimetype": "text/x-python",
   "name": "python",
   "nbconvert_exporter": "python",
   "pygments_lexer": "ipython3",
   "version": "3.5.4"
  }
 },
 "nbformat": 4,
 "nbformat_minor": 2
}
