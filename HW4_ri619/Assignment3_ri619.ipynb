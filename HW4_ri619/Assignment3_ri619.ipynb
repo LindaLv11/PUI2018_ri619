{
 "cells": [
  {
   "cell_type": "code",
   "execution_count": 1,
   "metadata": {},
   "outputs": [
    {
     "name": "stdout",
     "output_type": "stream",
     "text": [
      "Populating the interactive namespace from numpy and matplotlib\n"
     ]
    }
   ],
   "source": [
    "import pandas as pd\n",
    "import numpy as np\n",
    "import os\n",
    "import json\n",
    "import pylab as pl\n",
    "\n",
    "%pylab inline"
   ]
  },
  {
   "cell_type": "markdown",
   "metadata": {},
   "source": [
    "# Null Hypothesis\n",
    "\n",
    "$H_0$ : The new commute time is on average the same or longer than the old commute time using a significance value of 0.05.\n",
    "\n",
    "$H_0$ : $T_{new} - T_{old} >= 0 $\n",
    "\n",
    "$T_{old} :  ~ N(mu=36, std = 6) $"
   ]
  },
  {
   "cell_type": "markdown",
   "metadata": {},
   "source": [
    "# Alternate Hypothesis\n",
    "\n",
    "$H_1$ : The new commute time is on average shorter with the new bus route than it was with the old bus route. \n",
    "\n",
    "$H_1$ : $T_{new} - T_{old} <= 0 $\n"
   ]
  },
  {
   "cell_type": "code",
   "execution_count": 2,
   "metadata": {},
   "outputs": [],
   "source": [
    "#Read in test values and put into numpy array\n",
    "df = pd.read_csv(os.getenv(\"PUIDATA\") + \"/times.txt\", names=['time'])\n",
    "timing = np.asarray(df['time'])\n",
    "\n",
    "\n",
    "\n",
    "#Plug into Z statistic formula\n",
    "\n"
   ]
  },
  {
   "cell_type": "code",
   "execution_count": 3,
   "metadata": {},
   "outputs": [
    {
     "name": "stdout",
     "output_type": "stream",
     "text": [
      "Mean: 34.4661616883\n",
      "Standard Deviation: 7.10150406819\n"
     ]
    }
   ],
   "source": [
    "#Calculate mean and standard deviation of test values\n",
    "pop_mean = 36\n",
    "pop_std = 6\n",
    "sample_mean = timing.mean()\n",
    "sample_std = timing.std()\n",
    "sample_size = len(timing)\n",
    "print(\"Mean: \" + str(sample_mean))\n",
    "print(\"Standard Deviation: \" + str(sample_std))"
   ]
  },
  {
   "cell_type": "code",
   "execution_count": 4,
   "metadata": {},
   "outputs": [
    {
     "name": "stdout",
     "output_type": "stream",
     "text": [
      "2.55639718617\n"
     ]
    }
   ],
   "source": [
    "#Use the above mean and std to calculate the Z-statistic\n",
    "\n",
    "Z = (pop_mean - sample_mean) / (pop_std/sqrt(sample_size))\n",
    "print(Z)"
   ]
  },
  {
   "cell_type": "markdown",
   "metadata": {},
   "source": [
    "# Analysis\n",
    "\n",
    "Based off our sample timings for the new bus route, we can conclude the following:\n",
    "\n",
    "   Since our Z-statistic is 2.55, that means our p-value is small. A Z-statistic of 2.55 means we are over 2 standard deviations away from the population mean, and should reject our null hypothesis given our significance value -- the probability of a Z-statistic of 2.55 is lower than the signficance value of 0.05. "
   ]
  },
  {
   "cell_type": "code",
   "execution_count": null,
   "metadata": {},
   "outputs": [],
   "source": []
  }
 ],
 "metadata": {
  "kernelspec": {
   "display_name": "PUI2016_Python3",
   "language": "python",
   "name": "pui2016_python3"
  },
  "language_info": {
   "codemirror_mode": {
    "name": "ipython",
    "version": 3
   },
   "file_extension": ".py",
   "mimetype": "text/x-python",
   "name": "python",
   "nbconvert_exporter": "python",
   "pygments_lexer": "ipython3",
   "version": "3.5.4"
  }
 },
 "nbformat": 4,
 "nbformat_minor": 2
}
