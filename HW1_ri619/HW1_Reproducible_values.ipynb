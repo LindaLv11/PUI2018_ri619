{
 "cells": [
  {
   "cell_type": "code",
   "execution_count": 1,
   "metadata": {},
   "outputs": [],
   "source": [
    "from __future__ import print_function\n",
    "__author__ = \"Rohun Iyer, CUSP NYU 2018\""
   ]
  },
  {
   "cell_type": "markdown",
   "metadata": {},
   "source": [
    "# Create a <i>reproducible research</i> chunk of code\n",
    "\n",
    "That means we want the reader to be able to reproduce every step of the work we do. \n",
    "\n",
    "If our work includes the use of stochastic processes and random variables that gets tricky: how do we assure the random draw gives the same number to the user that it gave to me? That is not random! \n",
    "\n",
    "That becomes possible because computers are unable to poduce truly random numbers. When we ask a computer to generate a random number, it will in fact generate a \"pseudo random\" number. The number will be randon in the sanse that it will be some number between, for example, 0 and 1 if we ask for a **uniform random distribution** or a number near 0 if we aks for a **Gaussian distribution with mean 0**. <i> But the sequence of pseudo-random numbers that a compujter generates will depend on its **seed**: if you know the seed you know all the numbers that are \"randomely\" drawn</i>.  \n",
    "\n",
    "You can read more about pseudorandom number generation in this wikipedia article https://en.wikipedia.org/wiki/Pseudorandom_number_generator\n",
    "\n",
    "Fill in the empty cells below with code, as directed."
   ]
  },
  {
   "cell_type": "code",
   "execution_count": 2,
   "metadata": {},
   "outputs": [],
   "source": [
    "import os\n",
    "import sys\n",
    "\n",
    "# you can use the numpy library for random number generation: \n",
    "# http://docs.scipy.org/doc/numpy/reference/routines.random.html\n",
    "\n",
    "import numpy as np"
   ]
  },
  {
   "cell_type": "markdown",
   "metadata": {},
   "source": [
    "## THIS IS THE MOST IMPORTANT PIECE OF THIS CODE! \n",
    "### give numpy as seed for this code to be reproducible \n",
    "(no points if this is wrong)\n",
    "\n",
    "http://docs.scipy.org/doc/numpy/reference/generated/numpy.random.seed.html"
   ]
  },
  {
   "cell_type": "code",
   "execution_count": 3,
   "metadata": {},
   "outputs": [],
   "source": [
    "# Setting a random seed of 10 for reproducibility\n",
    "np.random.seed(10)"
   ]
  },
  {
   "cell_type": "markdown",
   "metadata": {},
   "source": [
    "### 1. Generate random distributions. use the function \n",
    "http://docs.scipy.org/doc/numpy/reference/generated/numpy.random.randn.html\n",
    "### to generate 100 2-dimensional random datapoints in a gaussian distribution \n",
    "\n",
    "call the array ReprRand\n"
   ]
  },
  {
   "cell_type": "code",
   "execution_count": 4,
   "metadata": {},
   "outputs": [
    {
     "data": {
      "text/plain": [
       "array([[ 1.3315865 ,  0.71527897, -1.54540029, -0.00838385,  0.62133597,\n",
       "        -0.72008556,  0.26551159,  0.10854853,  0.00429143, -0.17460021,\n",
       "         0.43302619,  1.20303737, -0.96506567,  1.02827408,  0.22863013,\n",
       "         0.44513761, -1.13660221,  0.13513688,  1.484537  , -1.07980489,\n",
       "        -1.97772828, -1.7433723 ,  0.26607016,  2.38496733,  1.12369125,\n",
       "         1.67262221,  0.09914922,  1.39799638, -0.27124799,  0.61320418,\n",
       "        -0.26731719, -0.54930901,  0.1327083 , -0.47614201,  1.30847308,\n",
       "         0.19501328,  0.40020999, -0.33763234,  1.25647226, -0.7319695 ,\n",
       "         0.66023155, -0.35087189, -0.93943336, -0.48933722, -0.80459114,\n",
       "        -0.21269764, -0.33914025,  0.31216994,  0.56515267, -0.14742026,\n",
       "        -0.02590534,  0.2890942 , -0.53987907,  0.70816002,  0.84222474,\n",
       "         0.2035808 ,  2.39470366,  0.91745894, -0.11227247, -0.36218045,\n",
       "        -0.23218226, -0.5017289 ,  1.12878515, -0.69781003, -0.08112218,\n",
       "        -0.52929608,  1.04618286, -1.41855603, -0.36249918, -0.12190569,\n",
       "         0.31935642,  0.4609029 , -0.21578989,  0.98907246,  0.31475378,\n",
       "         2.46765106, -1.50832149,  0.62060066, -1.04513254, -0.79800882,\n",
       "         1.98508459,  1.74481415, -1.85618548, -0.2227737 , -0.06584785,\n",
       "        -2.13171211, -0.04883051,  0.39334122,  0.21726515, -1.99439377,\n",
       "         1.10770823,  0.24454398, -0.06191203, -0.75389296,  0.71195902,\n",
       "         0.91826915, -0.48209314,  0.08958761,  0.82699862, -1.95451212],\n",
       "       [ 0.11747566, -1.90745689, -0.92290926,  0.46975143, -0.14436676,\n",
       "        -0.40013835, -0.29598385,  0.84820861,  0.70683045, -0.78726893,\n",
       "         0.29294072, -0.47080725,  2.40432561, -0.73935674, -0.31282876,\n",
       "        -0.34888192, -0.43902624,  0.14110417,  0.27304932, -1.61857075,\n",
       "        -0.57311336, -1.32044755,  1.23620533,  2.46532508,  1.38323223,\n",
       "         0.34623312,  1.02251611,  0.16681027,  1.65671662,  0.66788961,\n",
       "        -0.22994664, -1.12955119, -0.6399626 ,  0.31383052, -1.22583598,\n",
       "        -0.22179314,  1.33992631,  0.02930971,  1.98538575,  1.4471656 ,\n",
       "        -0.28762941, -1.35931057, -0.04804133, -0.48078734,  0.37775309,\n",
       "         1.61440797, -1.12310404, -0.38872795,  0.33234995,  1.13497317,\n",
       "         0.51071441,  0.41429764,  1.34454942,  0.49351532, -0.23700418,\n",
       "         0.05728515, -0.70707145,  0.54666484,  0.94250041, -2.97959677,\n",
       "         1.21814885, -0.05652072,  0.46088845,  0.66237401, -2.29510333,\n",
       "        -1.19592931, -0.33310116, -0.79139077,  0.27417278, -0.51490992,\n",
       "        -1.7110712 ,  0.61229731,  1.10012937,  0.56435253, -0.71279944,\n",
       "        -0.26085948,  0.54842807,  0.60319905,  1.00686114, -0.29442601,\n",
       "        -1.42088052, -0.67894677,  0.53388481,  0.7439744 ,  2.22504964,\n",
       "         0.11718142,  0.24461452, -0.17729882, -0.40572953,  0.78177519,\n",
       "         0.35347761, -0.20727949, -1.07969738, -0.12306983, -0.39098219,\n",
       "         1.25517373,  0.94712608, -1.02231069,  1.16716837, -0.57197681]])"
      ]
     },
     "execution_count": 4,
     "metadata": {},
     "output_type": "execute_result"
    }
   ],
   "source": [
    "# Creating 100 2-dimensional data points\n",
    "ReprRand = np.random.randn(2,100)\n",
    "ReprRand"
   ]
  },
  {
   "cell_type": "markdown",
   "metadata": {},
   "source": [
    "#### if you did this correctly the shape of ReprRand will be (2, 100)\n"
   ]
  },
  {
   "cell_type": "code",
   "execution_count": 5,
   "metadata": {},
   "outputs": [
    {
     "data": {
      "text/plain": [
       "(2, 100)"
      ]
     },
     "execution_count": 5,
     "metadata": {},
     "output_type": "execute_result"
    }
   ],
   "source": [
    "# run this cell\n",
    "ReprRand.shape"
   ]
  },
  {
   "cell_type": "markdown",
   "metadata": {},
   "source": [
    "## 2. use the same function to generate 50 more random 2x100 numpy arrays and store them in ReprRandAll, all with different mean.\n",
    "\n",
    "np.random.randn creates a distribution with mean 0 and standard deviation 1 by default.\n",
    "\n",
    "To obtain a gaussian distribution with a mean different than 1 using np.random.randn you must add your new mean (it is explained in the dunction documentation for which I already gave you the link)\n",
    "\n",
    "If you want to change the standard deviation (sigma) as well you multiply the distribution by the new sigma.\n",
    "\n",
    "You can do it in a for loop. The first line of code I included generates an array of zeros that you can fill in with your new numbers. \n",
    "\n",
    "\n"
   ]
  },
  {
   "cell_type": "code",
   "execution_count": 6,
   "metadata": {},
   "outputs": [
    {
     "data": {
      "text/plain": [
       "array([[[  1.33137497e-01,   1.20274387e+00,  -1.02475297e+00, ...,\n",
       "          -1.45064537e-01,   1.63904253e-01,   8.29512484e-01],\n",
       "        [  7.55299958e-01,   8.79485691e-01,  -2.39956299e-01, ...,\n",
       "          -1.35769756e+00,  -2.66501865e-01,  -1.71292798e-01]],\n",
       "\n",
       "       [[  1.46238555e+00,  -2.19855534e-01,   1.19257284e+00, ...,\n",
       "           1.54578447e+00,   3.16877599e-01,   3.40982692e-01],\n",
       "        [  2.43925373e+00,   2.38214662e+00,   1.92132043e+00, ...,\n",
       "           1.50013685e+00,   1.54133520e-02,   2.48597941e+00]],\n",
       "\n",
       "       [[  2.57069346e+00,   1.48712481e+00,   2.27578242e+00, ...,\n",
       "           1.54791071e+00,   1.79056404e+00,   1.70531564e+00],\n",
       "        [  2.90649216e+00,   2.99925449e+00,   2.31538431e+00, ...,\n",
       "           2.21722822e+00,   4.74965710e-01,   2.45789197e+00]],\n",
       "\n",
       "       ..., \n",
       "       [[  4.80714918e+01,   4.72845335e+01,   4.53218044e+01, ...,\n",
       "           4.53653991e+01,   4.73265735e+01,   4.60187177e+01],\n",
       "        [  4.84437301e+01,   4.81393288e+01,   4.77126864e+01, ...,\n",
       "           4.48959694e+01,   4.58999120e+01,   4.63029648e+01]],\n",
       "\n",
       "       [[  4.85880808e+01,   4.85572999e+01,   4.62857700e+01, ...,\n",
       "           4.84215938e+01,   4.95191226e+01,   4.59842679e+01],\n",
       "        [  4.86857972e+01,   4.85077522e+01,   4.85039796e+01, ...,\n",
       "           4.86473778e+01,   4.92507392e+01,   4.91629442e+01]],\n",
       "\n",
       "       [[  4.68130480e+01,   4.82241379e+01,   4.89074742e+01, ...,\n",
       "           4.81205420e+01,   4.88047443e+01,   4.76467286e+01],\n",
       "        [  4.88295352e+01,   4.84924719e+01,   4.83474393e+01, ...,\n",
       "           4.81646225e+01,   4.72990331e+01,   4.93388861e+01]]])"
      ]
     },
     "execution_count": 6,
     "metadata": {},
     "output_type": "execute_result"
    }
   ],
   "source": [
    "#Using a for loop, for each index in ReprRandAll, we are adding a new value to the distribution to change the mean\n",
    "#  and obtain a mean different than 1\n",
    "ReprRandAll = np.zeros((50, 2, 100))\n",
    "for i in range(50):\n",
    "    ReprRandAll[i] = np.random.randn(2, 100) + i\n",
    "ReprRandAll"
   ]
  },
  {
   "cell_type": "code",
   "execution_count": 7,
   "metadata": {},
   "outputs": [
    {
     "data": {
      "text/plain": [
       "(50, 2, 100)"
      ]
     },
     "execution_count": 7,
     "metadata": {},
     "output_type": "execute_result"
    }
   ],
   "source": [
    "# run this cell\n",
    "ReprRandAll.shape"
   ]
  },
  {
   "cell_type": "markdown",
   "metadata": {},
   "source": [
    "## 3. now plot them: \n",
    "\n",
    "you can use the matplotlib library, and the function scatter(), but that would plot everything in the same color unless you ask it not to. For convenience, let's use the function plot() which by default plots lines, and tell it to plot points (in addition plot is actually more efficient, so if you have a large dataset you may want to consider using plot with points for it anyways)\n",
    "\n",
    "https://scipy-lectures.github.io/intro/matplotlib/matplotlib.html#scatter-plots\n",
    "\n",
    "http://matplotlib.org/users/pyplot_tutorial.html\n"
   ]
  },
  {
   "cell_type": "code",
   "execution_count": 8,
   "metadata": {},
   "outputs": [
    {
     "name": "stdout",
     "output_type": "stream",
     "text": [
      "Populating the interactive namespace from numpy and matplotlib\n"
     ]
    },
    {
     "data": {
      "image/png": "[encoded data removed]",
      "text/plain": [
       "<matplotlib.figure.Figure at 0x7f67505dec18>"
      ]
     },
     "metadata": {},
     "output_type": "display_data"
    }
   ],
   "source": [
    "import pylab as pl\n",
    "%pylab inline\n",
    "# the last line of code makes the plot show up within the notebook. \n",
    "# Always include it so that your homework notebooks are rendered and we can see\n",
    "# what you wanted your results to be. \n",
    "\n",
    "\n",
    "\n",
    "#Set the x and y axis labels and the title of the plot\n",
    "plt.xlabel('X Values')\n",
    "plt.ylabel('Y Values')\n",
    "plt.title('Figure 1')\n",
    "\n",
    "#For each index in ReprRandAll, this for loop plots the distribution of data points using a \n",
    "#  different color for each index.\n",
    "for i in range(50):\n",
    "    plt.plot(ReprRandAll[i,0], ReprRandAll[i,1], \"o\")\n",
    "    \n",
    "plt.show()"
   ]
  },
  {
   "cell_type": "markdown",
   "metadata": {},
   "source": [
    "Always add a caption to each of your homework figures. \n",
    "And remember to give your labels some names! \n",
    "This is a general rule. Without the caption or axis labels this portion of the HW will not get points. Make sure the font in the labels is large enough to be readable.  \n",
    "\n",
    "## Figure 1: \n",
    "\n",
    "Scatterplot distribution of bivariate data. Each distribution is centered at (1,1), (2,2), ... , (49,49)."
   ]
  },
  {
   "cell_type": "markdown",
   "metadata": {},
   "source": [
    "## Challenge\n",
    "\n",
    "It is easier to give the same mean and standard deviation to each dimension. Can you give two different values for the mean along the x- and the mean along the y- axis for each of the 50 distributions if you have not done so? If you are an experienced coder, can you do it in a single line?\n",
    "\n",
    "\n"
   ]
  },
  {
   "cell_type": "code",
   "execution_count": 11,
   "metadata": {},
   "outputs": [],
   "source": [
    "# Setting a new random seed for the challenge section\n",
    "np.random.seed(10)\n",
    "\n",
    "#Creating new arrays\n",
    "NewReprRandAll = np.zeros((50, 2, 100))\n",
    "\n",
    "#In this for loop, to ensure different values for the mean along each axis, I added the index value\n",
    "#   to the x values and the index value multiplied by a random number to the y values. \n",
    "for i in range(50):\n",
    "    #code here...\n",
    "    num = np.random.randn()\n",
    "    NewReprRandAll[i,0] = np.random.randn(1, 100) + i\n",
    "    NewReprRandAll[i,1] = np.random.randn(1, 100) + i*num"
   ]
  },
  {
   "cell_type": "code",
   "execution_count": 12,
   "metadata": {
    "scrolled": true
   },
   "outputs": [
    {
     "data": {
      "image/png": "[encoded data removed]",
      "text/plain": [
       "<matplotlib.figure.Figure at 0x7f6745ceebe0>"
      ]
     },
     "metadata": {},
     "output_type": "display_data"
    }
   ],
   "source": [
    "#Set the x and y axis labels and the title of the plot\n",
    "plt.xlabel('X Values')\n",
    "plt.ylabel('Y Values')\n",
    "plt.title('Figure 2')\n",
    "\n",
    "#For each index in NewReprRandAll, this for loop plots the distribution of data points using a \n",
    "#  different color for each index.\n",
    "for i in range(50):\n",
    "    plt.plot(NewReprRandAll[i,0], NewReprRandAll[i,1], \"o\")\n",
    "    \n",
    "plt.show()"
   ]
  },
  {
   "cell_type": "markdown",
   "metadata": {},
   "source": [
    "## Figure 2: \n",
    "\n",
    "Scatterplot distribution of bivariate data. The distributions are centered at x = [1,2,3...,48,49] and a random value for the y variable."
   ]
  },
  {
   "cell_type": "code",
   "execution_count": null,
   "metadata": {},
   "outputs": [],
   "source": []
  }
 ],
 "metadata": {
  "anaconda-cloud": {},
  "kernelspec": {
   "display_name": "PUI2016_Python3",
   "language": "python",
   "name": "pui2016_python3"
  },
  "language_info": {
   "codemirror_mode": {
    "name": "ipython",
    "version": 3
   },
   "file_extension": ".py",
   "mimetype": "text/x-python",
   "name": "python",
   "nbconvert_exporter": "python",
   "pygments_lexer": "ipython3",
   "version": "3.5.4"
  }
 },
 "nbformat": 4,
 "nbformat_minor": 1
}
